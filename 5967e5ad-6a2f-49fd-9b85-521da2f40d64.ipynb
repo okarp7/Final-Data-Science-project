{
 "cells": [
  {
   "cell_type": "markdown",
   "id": "694664de",
   "metadata": {},
   "source": []
  },
  {
   "cell_type": "markdown",
   "id": "56c2f303",
   "metadata": {},
   "source": [
    "# Supervised Learning Project"
   ]
  },
  {
   "cell_type": "markdown",
   "id": "3acf2e02",
   "metadata": {},
   "source": [
    "## Project Description:"
   ]
  },
  {
   "cell_type": "markdown",
   "id": "d87272e9",
   "metadata": {},
   "source": [
    "The telecom operator Interconnect would like to be able to forecast their churn of clients.\n",
    "\n",
    "If it's discovered that a user is planning to leave, they will be offered promotional codes and special plan options.\n",
    "\n",
    "Interconnect's marketing team has collected some of their clientele's personal data, including information about their plans and contracts.\n",
    "\n",
    "Our task is to build a model that will predict whether a customer is going to leave the company, using the provided data, which includes the data of customers taht already left the company."
   ]
  },
  {
   "cell_type": "markdown",
   "id": "883a14ef",
   "metadata": {},
   "source": [
    "## Data Description\n"
   ]
  },
  {
   "cell_type": "markdown",
   "id": "5512dfd8",
   "metadata": {},
   "source": [
    "The data consists of files obtained from different sources:\n",
    "\n",
    "contract.csv — contract information\n",
    "personal.csv — the client's personal data\n",
    "internet.csv — information about Internet services\n",
    "phone.csv — information about telephone services"
   ]
  },
  {
   "cell_type": "markdown",
   "id": "82e0ccd2",
   "metadata": {},
   "source": [
    "# The work plan for the project"
   ]
  },
  {
   "cell_type": "markdown",
   "id": "3718c826",
   "metadata": {},
   "source": [
    "**The work plan for the final project will include**\n",
    "\n",
    "\n",
    "1. reading all the libraries\n",
    "2. loading the data\n",
    "3. look at the data: \n",
    "- all four data frame have one unique key to them. \n",
    "  It is easier to merge all the data frames by the \n",
    "  key to use the features of all the four files.\n",
    "  join all the data frames to one using the customerID to merge them all\n",
    "\n",
    "4. analyzing the type of the features:\n",
    "- checking the categorical features, how many option they have, is it numeric or strings.   \n",
    "  - Are they mixed or the same type.\n",
    "- We will be paying extra attention to missing values when joining the data sets.\n",
    "    - if the missing value are targets, we cannot use it and delete the observation\n",
    "    - if the missing value are features, examine if they can be replace with option that relate to lack of this     feature like 'No' or 0.\n",
    "  - replacing the missing features with 'No'\n",
    "  - replacing type 'object' to 'category'\n",
    "  - replacing BeginDate from type 'object' type to datetime to be able to make manipulation on this feature.\n",
    "5. replacing the datetime features with useful data that will help the model:\n",
    "    - the exact date of joining is less important than the period of the customer is with the company. \n",
    "    Because the customers pay monthly, lets transform this data to calculate how many months the customers are customers for the company.\n",
    "\n",
    "6. calculating the target\n",
    "- we need to know if the customer left or continue with the company. We do so by checking the EndDate column, if EndDate is not equal to 'No'(left the company), then it is Yes(continues).\n",
    "7. We now can remove the unnecessary columns:\n",
    "    - customerID\n",
    "    - BeginDate\n",
    "    - EndDate\n",
    "8. checking for duplicates\n",
    "9. checking for imbalance data. If problem with imbalance data exist, we can address it by imblearn library objects.\n",
    "    - we can try one of imblearn methods for oversampling (SMOTE) OR\n",
    "    - try one of imblearn combined methods for oversampling and undersampling (SMOTE + Tomek or SMOTE + ENN)\n",
    "    - we will have to check if addressing the imbalance problem giving better score.\n",
    "10. show the features distribution\n",
    "11. Deciding if we need to normalize the features, depend on the models we will choose. Some of the models doesn't need normalization.\n",
    "12. use encoding for all the categorical features for models that need it. We will use OHE Encoding on the features that are categorical\n",
    "13. Before addressing the imbalance problem, we will divide the data to features and target\n",
    "14. Dividing the data between train and test\n",
    "15. We will make two sets of train data:\n",
    "    - without change\n",
    "    - balance data"
   ]
  },
  {
   "cell_type": "markdown",
   "id": "c30dfbb9",
   "metadata": {},
   "source": [
    "### Downloading the data"
   ]
  },
  {
   "cell_type": "code",
   "execution_count": 1,
   "id": "c73fd316",
   "metadata": {},
   "outputs": [],
   "source": [
    "# standard imports and setup\n",
    "import pandas as pd\n",
    "import numpy as np\n",
    "import seaborn as sns\n",
    "import matplotlib.pyplot as plt\n",
    "\n",
    "# data preparation\n",
    "from sklearn.model_selection import train_test_split as tts\n",
    "from sklearn.preprocessing import StandardScaler\n",
    "from sklearn.preprocessing import OneHotEncoder\n",
    "from sklearn.utils import shuffle\n",
    "\n",
    "# pipelines\n",
    "from sklearn.compose import ColumnTransformer\n",
    "from sklearn.pipeline import Pipeline\n",
    "\n",
    "# machine learning models\n",
    "from sklearn.dummy import DummyClassifier\n",
    "from sklearn.model_selection import GridSearchCV\n",
    "from sklearn.linear_model import LogisticRegression\n",
    "from sklearn.ensemble import RandomForestClassifier\n",
    "from xgboost import XGBClassifier\n",
    "from lightgbm import LGBMClassifier\n",
    "from catboost import CatBoostClassifier\n",
    "from tensorflow.keras.models import Sequential\n",
    "from tensorflow.keras.layers import Dense\n",
    "from sklearn.utils import class_weight\n",
    "\n",
    "# model evaluation\n",
    "from sklearn.metrics import roc_curve\n",
    "from sklearn.metrics import confusion_matrix, f1_score, roc_auc_score\n",
    "from sklearn.metrics import ConfusionMatrixDisplay\n",
    "\n",
    "# ignore warnings\n",
    "import sys\n",
    "import warnings\n",
    "if not sys.warnoptions:\n",
    "       warnings.simplefilter(\"ignore\")\n",
    "        \n",
    "%matplotlib inline\n",
    "plt.style.use('seaborn')"
   ]
  },
  {
   "cell_type": "code",
   "execution_count": 2,
   "id": "573ab08d",
   "metadata": {},
   "outputs": [],
   "source": [
    "# download the datasets\n",
    "try:\n",
    "    contract = pd.read_csv('contract.csv')\n",
    "    personal = pd.read_csv('personal.csv')\n",
    "    internet = pd.read_csv('internet.csv')\n",
    "    phone = pd.read_csv('phone.csv')\n",
    "except:   \n",
    "    contract = pd.read_csv('/datasets/final_provider/contract.csv')\n",
    "    personal = pd.read_csv('/datasets/final_provider/personal.csv')\n",
    "    internet = pd.read_csv('/datasets/final_provider/internet.csv')\n",
    "    phone = pd.read_csv('/datasets/final_provider/phone.csv')"
   ]
  },
  {
   "cell_type": "markdown",
   "id": "5af7d76b",
   "metadata": {},
   "source": [
    "## General info"
   ]
  },
  {
   "cell_type": "code",
   "execution_count": 3,
   "id": "9d41f77d",
   "metadata": {},
   "outputs": [
    {
     "name": "stdout",
     "output_type": "stream",
     "text": [
      "contract\n"
     ]
    },
    {
     "data": {
      "text/html": [
       "<div>\n",
       "<style scoped>\n",
       "    .dataframe tbody tr th:only-of-type {\n",
       "        vertical-align: middle;\n",
       "    }\n",
       "\n",
       "    .dataframe tbody tr th {\n",
       "        vertical-align: top;\n",
       "    }\n",
       "\n",
       "    .dataframe thead th {\n",
       "        text-align: right;\n",
       "    }\n",
       "</style>\n",
       "<table border=\"1\" class=\"dataframe\">\n",
       "  <thead>\n",
       "    <tr style=\"text-align: right;\">\n",
       "      <th></th>\n",
       "      <th>customerID</th>\n",
       "      <th>BeginDate</th>\n",
       "      <th>EndDate</th>\n",
       "      <th>Type</th>\n",
       "      <th>PaperlessBilling</th>\n",
       "      <th>PaymentMethod</th>\n",
       "      <th>MonthlyCharges</th>\n",
       "      <th>TotalCharges</th>\n",
       "    </tr>\n",
       "  </thead>\n",
       "  <tbody>\n",
       "    <tr>\n",
       "      <th>0</th>\n",
       "      <td>7590-VHVEG</td>\n",
       "      <td>2020-01-01</td>\n",
       "      <td>No</td>\n",
       "      <td>Month-to-month</td>\n",
       "      <td>Yes</td>\n",
       "      <td>Electronic check</td>\n",
       "      <td>29.85</td>\n",
       "      <td>29.85</td>\n",
       "    </tr>\n",
       "    <tr>\n",
       "      <th>1</th>\n",
       "      <td>5575-GNVDE</td>\n",
       "      <td>2017-04-01</td>\n",
       "      <td>No</td>\n",
       "      <td>One year</td>\n",
       "      <td>No</td>\n",
       "      <td>Mailed check</td>\n",
       "      <td>56.95</td>\n",
       "      <td>1889.5</td>\n",
       "    </tr>\n",
       "    <tr>\n",
       "      <th>2</th>\n",
       "      <td>3668-QPYBK</td>\n",
       "      <td>2019-10-01</td>\n",
       "      <td>2019-12-01 00:00:00</td>\n",
       "      <td>Month-to-month</td>\n",
       "      <td>Yes</td>\n",
       "      <td>Mailed check</td>\n",
       "      <td>53.85</td>\n",
       "      <td>108.15</td>\n",
       "    </tr>\n",
       "    <tr>\n",
       "      <th>3</th>\n",
       "      <td>7795-CFOCW</td>\n",
       "      <td>2016-05-01</td>\n",
       "      <td>No</td>\n",
       "      <td>One year</td>\n",
       "      <td>No</td>\n",
       "      <td>Bank transfer (automatic)</td>\n",
       "      <td>42.30</td>\n",
       "      <td>1840.75</td>\n",
       "    </tr>\n",
       "    <tr>\n",
       "      <th>4</th>\n",
       "      <td>9237-HQITU</td>\n",
       "      <td>2019-09-01</td>\n",
       "      <td>2019-11-01 00:00:00</td>\n",
       "      <td>Month-to-month</td>\n",
       "      <td>Yes</td>\n",
       "      <td>Electronic check</td>\n",
       "      <td>70.70</td>\n",
       "      <td>151.65</td>\n",
       "    </tr>\n",
       "  </tbody>\n",
       "</table>\n",
       "</div>"
      ],
      "text/plain": [
       "   customerID   BeginDate              EndDate            Type  \\\n",
       "0  7590-VHVEG  2020-01-01                   No  Month-to-month   \n",
       "1  5575-GNVDE  2017-04-01                   No        One year   \n",
       "2  3668-QPYBK  2019-10-01  2019-12-01 00:00:00  Month-to-month   \n",
       "3  7795-CFOCW  2016-05-01                   No        One year   \n",
       "4  9237-HQITU  2019-09-01  2019-11-01 00:00:00  Month-to-month   \n",
       "\n",
       "  PaperlessBilling              PaymentMethod  MonthlyCharges TotalCharges  \n",
       "0              Yes           Electronic check           29.85        29.85  \n",
       "1               No               Mailed check           56.95       1889.5  \n",
       "2              Yes               Mailed check           53.85       108.15  \n",
       "3               No  Bank transfer (automatic)           42.30      1840.75  \n",
       "4              Yes           Electronic check           70.70       151.65  "
      ]
     },
     "metadata": {},
     "output_type": "display_data"
    },
    {
     "name": "stdout",
     "output_type": "stream",
     "text": [
      "\n",
      "personal\n"
     ]
    },
    {
     "data": {
      "text/html": [
       "<div>\n",
       "<style scoped>\n",
       "    .dataframe tbody tr th:only-of-type {\n",
       "        vertical-align: middle;\n",
       "    }\n",
       "\n",
       "    .dataframe tbody tr th {\n",
       "        vertical-align: top;\n",
       "    }\n",
       "\n",
       "    .dataframe thead th {\n",
       "        text-align: right;\n",
       "    }\n",
       "</style>\n",
       "<table border=\"1\" class=\"dataframe\">\n",
       "  <thead>\n",
       "    <tr style=\"text-align: right;\">\n",
       "      <th></th>\n",
       "      <th>customerID</th>\n",
       "      <th>gender</th>\n",
       "      <th>SeniorCitizen</th>\n",
       "      <th>Partner</th>\n",
       "      <th>Dependents</th>\n",
       "    </tr>\n",
       "  </thead>\n",
       "  <tbody>\n",
       "    <tr>\n",
       "      <th>0</th>\n",
       "      <td>7590-VHVEG</td>\n",
       "      <td>Female</td>\n",
       "      <td>0</td>\n",
       "      <td>Yes</td>\n",
       "      <td>No</td>\n",
       "    </tr>\n",
       "    <tr>\n",
       "      <th>1</th>\n",
       "      <td>5575-GNVDE</td>\n",
       "      <td>Male</td>\n",
       "      <td>0</td>\n",
       "      <td>No</td>\n",
       "      <td>No</td>\n",
       "    </tr>\n",
       "    <tr>\n",
       "      <th>2</th>\n",
       "      <td>3668-QPYBK</td>\n",
       "      <td>Male</td>\n",
       "      <td>0</td>\n",
       "      <td>No</td>\n",
       "      <td>No</td>\n",
       "    </tr>\n",
       "    <tr>\n",
       "      <th>3</th>\n",
       "      <td>7795-CFOCW</td>\n",
       "      <td>Male</td>\n",
       "      <td>0</td>\n",
       "      <td>No</td>\n",
       "      <td>No</td>\n",
       "    </tr>\n",
       "    <tr>\n",
       "      <th>4</th>\n",
       "      <td>9237-HQITU</td>\n",
       "      <td>Female</td>\n",
       "      <td>0</td>\n",
       "      <td>No</td>\n",
       "      <td>No</td>\n",
       "    </tr>\n",
       "  </tbody>\n",
       "</table>\n",
       "</div>"
      ],
      "text/plain": [
       "   customerID  gender  SeniorCitizen Partner Dependents\n",
       "0  7590-VHVEG  Female              0     Yes         No\n",
       "1  5575-GNVDE    Male              0      No         No\n",
       "2  3668-QPYBK    Male              0      No         No\n",
       "3  7795-CFOCW    Male              0      No         No\n",
       "4  9237-HQITU  Female              0      No         No"
      ]
     },
     "metadata": {},
     "output_type": "display_data"
    },
    {
     "name": "stdout",
     "output_type": "stream",
     "text": [
      "\n",
      "internet\n"
     ]
    },
    {
     "data": {
      "text/html": [
       "<div>\n",
       "<style scoped>\n",
       "    .dataframe tbody tr th:only-of-type {\n",
       "        vertical-align: middle;\n",
       "    }\n",
       "\n",
       "    .dataframe tbody tr th {\n",
       "        vertical-align: top;\n",
       "    }\n",
       "\n",
       "    .dataframe thead th {\n",
       "        text-align: right;\n",
       "    }\n",
       "</style>\n",
       "<table border=\"1\" class=\"dataframe\">\n",
       "  <thead>\n",
       "    <tr style=\"text-align: right;\">\n",
       "      <th></th>\n",
       "      <th>customerID</th>\n",
       "      <th>InternetService</th>\n",
       "      <th>OnlineSecurity</th>\n",
       "      <th>OnlineBackup</th>\n",
       "      <th>DeviceProtection</th>\n",
       "      <th>TechSupport</th>\n",
       "      <th>StreamingTV</th>\n",
       "      <th>StreamingMovies</th>\n",
       "    </tr>\n",
       "  </thead>\n",
       "  <tbody>\n",
       "    <tr>\n",
       "      <th>0</th>\n",
       "      <td>7590-VHVEG</td>\n",
       "      <td>DSL</td>\n",
       "      <td>No</td>\n",
       "      <td>Yes</td>\n",
       "      <td>No</td>\n",
       "      <td>No</td>\n",
       "      <td>No</td>\n",
       "      <td>No</td>\n",
       "    </tr>\n",
       "    <tr>\n",
       "      <th>1</th>\n",
       "      <td>5575-GNVDE</td>\n",
       "      <td>DSL</td>\n",
       "      <td>Yes</td>\n",
       "      <td>No</td>\n",
       "      <td>Yes</td>\n",
       "      <td>No</td>\n",
       "      <td>No</td>\n",
       "      <td>No</td>\n",
       "    </tr>\n",
       "    <tr>\n",
       "      <th>2</th>\n",
       "      <td>3668-QPYBK</td>\n",
       "      <td>DSL</td>\n",
       "      <td>Yes</td>\n",
       "      <td>Yes</td>\n",
       "      <td>No</td>\n",
       "      <td>No</td>\n",
       "      <td>No</td>\n",
       "      <td>No</td>\n",
       "    </tr>\n",
       "    <tr>\n",
       "      <th>3</th>\n",
       "      <td>7795-CFOCW</td>\n",
       "      <td>DSL</td>\n",
       "      <td>Yes</td>\n",
       "      <td>No</td>\n",
       "      <td>Yes</td>\n",
       "      <td>Yes</td>\n",
       "      <td>No</td>\n",
       "      <td>No</td>\n",
       "    </tr>\n",
       "    <tr>\n",
       "      <th>4</th>\n",
       "      <td>9237-HQITU</td>\n",
       "      <td>Fiber optic</td>\n",
       "      <td>No</td>\n",
       "      <td>No</td>\n",
       "      <td>No</td>\n",
       "      <td>No</td>\n",
       "      <td>No</td>\n",
       "      <td>No</td>\n",
       "    </tr>\n",
       "  </tbody>\n",
       "</table>\n",
       "</div>"
      ],
      "text/plain": [
       "   customerID InternetService OnlineSecurity OnlineBackup DeviceProtection  \\\n",
       "0  7590-VHVEG             DSL             No          Yes               No   \n",
       "1  5575-GNVDE             DSL            Yes           No              Yes   \n",
       "2  3668-QPYBK             DSL            Yes          Yes               No   \n",
       "3  7795-CFOCW             DSL            Yes           No              Yes   \n",
       "4  9237-HQITU     Fiber optic             No           No               No   \n",
       "\n",
       "  TechSupport StreamingTV StreamingMovies  \n",
       "0          No          No              No  \n",
       "1          No          No              No  \n",
       "2          No          No              No  \n",
       "3         Yes          No              No  \n",
       "4          No          No              No  "
      ]
     },
     "metadata": {},
     "output_type": "display_data"
    },
    {
     "name": "stdout",
     "output_type": "stream",
     "text": [
      "\n",
      "phone\n"
     ]
    },
    {
     "data": {
      "text/html": [
       "<div>\n",
       "<style scoped>\n",
       "    .dataframe tbody tr th:only-of-type {\n",
       "        vertical-align: middle;\n",
       "    }\n",
       "\n",
       "    .dataframe tbody tr th {\n",
       "        vertical-align: top;\n",
       "    }\n",
       "\n",
       "    .dataframe thead th {\n",
       "        text-align: right;\n",
       "    }\n",
       "</style>\n",
       "<table border=\"1\" class=\"dataframe\">\n",
       "  <thead>\n",
       "    <tr style=\"text-align: right;\">\n",
       "      <th></th>\n",
       "      <th>customerID</th>\n",
       "      <th>MultipleLines</th>\n",
       "    </tr>\n",
       "  </thead>\n",
       "  <tbody>\n",
       "    <tr>\n",
       "      <th>0</th>\n",
       "      <td>5575-GNVDE</td>\n",
       "      <td>No</td>\n",
       "    </tr>\n",
       "    <tr>\n",
       "      <th>1</th>\n",
       "      <td>3668-QPYBK</td>\n",
       "      <td>No</td>\n",
       "    </tr>\n",
       "    <tr>\n",
       "      <th>2</th>\n",
       "      <td>9237-HQITU</td>\n",
       "      <td>No</td>\n",
       "    </tr>\n",
       "    <tr>\n",
       "      <th>3</th>\n",
       "      <td>9305-CDSKC</td>\n",
       "      <td>Yes</td>\n",
       "    </tr>\n",
       "    <tr>\n",
       "      <th>4</th>\n",
       "      <td>1452-KIOVK</td>\n",
       "      <td>Yes</td>\n",
       "    </tr>\n",
       "  </tbody>\n",
       "</table>\n",
       "</div>"
      ],
      "text/plain": [
       "   customerID MultipleLines\n",
       "0  5575-GNVDE            No\n",
       "1  3668-QPYBK            No\n",
       "2  9237-HQITU            No\n",
       "3  9305-CDSKC           Yes\n",
       "4  1452-KIOVK           Yes"
      ]
     },
     "metadata": {},
     "output_type": "display_data"
    },
    {
     "name": "stdout",
     "output_type": "stream",
     "text": [
      "\n"
     ]
    }
   ],
   "source": [
    "# dictionery for iterations\n",
    "dfs = {\n",
    "    \"contract\" : contract,\n",
    "    \"personal\" : personal,\n",
    "    \"internet\" : internet,\n",
    "    \"phone\" : phone\n",
    "}\n",
    "\n",
    "# show the first rows of the data \n",
    "for k,v in dfs.items():\n",
    "    print(k)\n",
    "    display(v.head())\n",
    "    print('')"
   ]
  },
  {
   "cell_type": "code",
   "execution_count": 4,
   "id": "8b8fed3e",
   "metadata": {},
   "outputs": [
    {
     "name": "stdout",
     "output_type": "stream",
     "text": [
      "<class 'pandas.core.frame.DataFrame'>\n",
      "RangeIndex: 7043 entries, 0 to 7042\n",
      "Data columns (total 8 columns):\n",
      " #   Column            Non-Null Count  Dtype  \n",
      "---  ------            --------------  -----  \n",
      " 0   customerID        7043 non-null   object \n",
      " 1   BeginDate         7043 non-null   object \n",
      " 2   EndDate           7043 non-null   object \n",
      " 3   Type              7043 non-null   object \n",
      " 4   PaperlessBilling  7043 non-null   object \n",
      " 5   PaymentMethod     7043 non-null   object \n",
      " 6   MonthlyCharges    7043 non-null   float64\n",
      " 7   TotalCharges      7043 non-null   object \n",
      "dtypes: float64(1), object(7)\n",
      "memory usage: 440.3+ KB\n"
     ]
    },
    {
     "data": {
      "text/plain": [
       "None"
      ]
     },
     "metadata": {},
     "output_type": "display_data"
    },
    {
     "name": "stdout",
     "output_type": "stream",
     "text": [
      "<class 'pandas.core.frame.DataFrame'>\n",
      "RangeIndex: 7043 entries, 0 to 7042\n",
      "Data columns (total 5 columns):\n",
      " #   Column         Non-Null Count  Dtype \n",
      "---  ------         --------------  ----- \n",
      " 0   customerID     7043 non-null   object\n",
      " 1   gender         7043 non-null   object\n",
      " 2   SeniorCitizen  7043 non-null   int64 \n",
      " 3   Partner        7043 non-null   object\n",
      " 4   Dependents     7043 non-null   object\n",
      "dtypes: int64(1), object(4)\n",
      "memory usage: 275.2+ KB\n"
     ]
    },
    {
     "data": {
      "text/plain": [
       "None"
      ]
     },
     "metadata": {},
     "output_type": "display_data"
    },
    {
     "name": "stdout",
     "output_type": "stream",
     "text": [
      "<class 'pandas.core.frame.DataFrame'>\n",
      "RangeIndex: 5517 entries, 0 to 5516\n",
      "Data columns (total 8 columns):\n",
      " #   Column            Non-Null Count  Dtype \n",
      "---  ------            --------------  ----- \n",
      " 0   customerID        5517 non-null   object\n",
      " 1   InternetService   5517 non-null   object\n",
      " 2   OnlineSecurity    5517 non-null   object\n",
      " 3   OnlineBackup      5517 non-null   object\n",
      " 4   DeviceProtection  5517 non-null   object\n",
      " 5   TechSupport       5517 non-null   object\n",
      " 6   StreamingTV       5517 non-null   object\n",
      " 7   StreamingMovies   5517 non-null   object\n",
      "dtypes: object(8)\n",
      "memory usage: 344.9+ KB\n"
     ]
    },
    {
     "data": {
      "text/plain": [
       "None"
      ]
     },
     "metadata": {},
     "output_type": "display_data"
    },
    {
     "name": "stdout",
     "output_type": "stream",
     "text": [
      "<class 'pandas.core.frame.DataFrame'>\n",
      "RangeIndex: 6361 entries, 0 to 6360\n",
      "Data columns (total 2 columns):\n",
      " #   Column         Non-Null Count  Dtype \n",
      "---  ------         --------------  ----- \n",
      " 0   customerID     6361 non-null   object\n",
      " 1   MultipleLines  6361 non-null   object\n",
      "dtypes: object(2)\n",
      "memory usage: 99.5+ KB\n"
     ]
    },
    {
     "data": {
      "text/plain": [
       "None"
      ]
     },
     "metadata": {},
     "output_type": "display_data"
    }
   ],
   "source": [
    "# show the general info of the data \n",
    "for k,v in dfs.items():\n",
    "    display(v.info())"
   ]
  },
  {
   "cell_type": "code",
   "execution_count": 5,
   "id": "e4ac0ecd",
   "metadata": {},
   "outputs": [
    {
     "name": "stdout",
     "output_type": "stream",
     "text": [
      "contract\n",
      "--------\n",
      "customerID\n",
      "['7590-VHVEG' '5575-GNVDE' '3668-QPYBK' ... '4801-JZAZL' '8361-LTMKD'\n",
      " '3186-AJIEK']\n",
      "BeginDate\n",
      "['2020-01-01' '2017-04-01' '2019-10-01' '2016-05-01' '2019-09-01'\n",
      " '2019-03-01' '2018-04-01' '2019-04-01' '2017-07-01' '2014-12-01'\n",
      " '2019-01-01' '2018-10-01' '2015-04-01' '2015-09-01' '2018-01-01'\n",
      " '2014-05-01' '2015-10-01' '2014-03-01' '2018-05-01' '2019-11-01'\n",
      " '2019-02-01' '2016-01-01' '2017-08-01' '2015-12-01' '2014-02-01'\n",
      " '2018-06-01' '2019-12-01' '2017-11-01' '2019-06-01' '2016-04-01'\n",
      " '2017-02-01' '2018-12-01' '2014-04-01' '2018-09-01' '2014-11-01'\n",
      " '2016-07-01' '2015-02-01' '2018-07-01' '2014-08-01' '2016-03-01'\n",
      " '2018-08-01' '2014-10-01' '2015-06-01' '2016-08-01' '2019-05-01'\n",
      " '2017-03-01' '2016-02-01' '2017-09-01' '2014-09-01' '2017-12-01'\n",
      " '2016-12-01' '2017-06-01' '2015-05-01' '2016-10-01' '2016-09-01'\n",
      " '2019-08-01' '2019-07-01' '2017-05-01' '2017-10-01' '2014-07-01'\n",
      " '2018-03-01' '2015-01-01' '2018-11-01' '2015-03-01' '2018-02-01'\n",
      " '2016-06-01' '2015-08-01' '2015-11-01' '2014-06-01' '2017-01-01'\n",
      " '2015-07-01' '2020-02-01' '2016-11-01' '2013-11-01' '2014-01-01'\n",
      " '2013-10-01' '2013-12-01']\n",
      "EndDate\n",
      "['No' '2019-12-01 00:00:00' '2019-11-01 00:00:00' '2019-10-01 00:00:00'\n",
      " '2020-01-01 00:00:00']\n",
      "Type\n",
      "['Month-to-month' 'One year' 'Two year']\n",
      "PaperlessBilling\n",
      "['Yes' 'No']\n",
      "PaymentMethod\n",
      "['Electronic check' 'Mailed check' 'Bank transfer (automatic)'\n",
      " 'Credit card (automatic)']\n",
      "MonthlyCharges\n",
      "[29.85 56.95 53.85 ... 63.1  44.2  78.7 ]\n",
      "TotalCharges\n",
      "['29.85' '1889.5' '108.15' ... '346.45' '306.6' '6844.5']\n",
      "\n",
      "\n",
      "personal\n",
      "--------\n",
      "customerID\n",
      "['7590-VHVEG' '5575-GNVDE' '3668-QPYBK' ... '4801-JZAZL' '8361-LTMKD'\n",
      " '3186-AJIEK']\n",
      "gender\n",
      "['Female' 'Male']\n",
      "SeniorCitizen\n",
      "[0 1]\n",
      "Partner\n",
      "['Yes' 'No']\n",
      "Dependents\n",
      "['No' 'Yes']\n",
      "\n",
      "\n",
      "internet\n",
      "--------\n",
      "customerID\n",
      "['7590-VHVEG' '5575-GNVDE' '3668-QPYBK' ... '4801-JZAZL' '8361-LTMKD'\n",
      " '3186-AJIEK']\n",
      "InternetService\n",
      "['DSL' 'Fiber optic']\n",
      "OnlineSecurity\n",
      "['No' 'Yes']\n",
      "OnlineBackup\n",
      "['Yes' 'No']\n",
      "DeviceProtection\n",
      "['No' 'Yes']\n",
      "TechSupport\n",
      "['No' 'Yes']\n",
      "StreamingTV\n",
      "['No' 'Yes']\n",
      "StreamingMovies\n",
      "['No' 'Yes']\n",
      "\n",
      "\n",
      "phone\n",
      "-----\n",
      "customerID\n",
      "['5575-GNVDE' '3668-QPYBK' '9237-HQITU' ... '2234-XADUH' '8361-LTMKD'\n",
      " '3186-AJIEK']\n",
      "MultipleLines\n",
      "['No' 'Yes']\n",
      "\n",
      "\n"
     ]
    }
   ],
   "source": [
    "# unique values\n",
    "for k,v in dfs.items():\n",
    "    print(k)\n",
    "    print('-'*len(k))\n",
    "    for column in v.columns:\n",
    "        print(column)\n",
    "        print(v[column].unique())\n",
    "    print('\\n')"
   ]
  },
  {
   "cell_type": "markdown",
   "id": "47899769",
   "metadata": {},
   "source": [
    "### Observations:"
   ]
  },
  {
   "cell_type": "markdown",
   "id": "7f5d1480",
   "metadata": {},
   "source": [
    "* Contract and personal dataframes have 7043 rows.\n",
    "\n",
    "* Internet dataframe has 5517 rows and phone dataset has 6361 rows, which can indicate that not all customers have both services.\n",
    "\n",
    "* In the contract dataframe EndDate column has two types of inputs, dates or 'No'. We'll make a copy of this column and replace in the copy the 'No' with the last date (February 1, 2020). We'll create a new column Tenure which will be the difference between the copied EndDate and BeginDate.\n",
    "\n",
    "* In contract dataframe we need to change the type of few columns (BeginDate to datetime object and TotalCharges to float).\n",
    "\n",
    "* The dates in the EndDate column will be replaced with 'Yes'.\n",
    "\n",
    "* All dates start on the first of the month so we'll replace the BeginDate column with BeginMonth and BeginYear.\n",
    "\n",
    "* All dataframes has the customerID, we will merge all dataframes based on this column.\n",
    "\n",
    "* In the merged dataframe we need to assure that all columns are UpperCamelCase (need to fix customerID and gender).\n",
    "\n",
    "* There are many binary and categorical features, later on we'll encode them."
   ]
  },
  {
   "cell_type": "markdown",
   "id": "0fbf6b1b",
   "metadata": {},
   "source": [
    "### Missing values and duplicates"
   ]
  },
  {
   "cell_type": "code",
   "execution_count": 6,
   "id": "a4b2b282",
   "metadata": {},
   "outputs": [
    {
     "data": {
      "text/plain": [
       "customerID          0\n",
       "BeginDate           0\n",
       "EndDate             0\n",
       "Type                0\n",
       "PaperlessBilling    0\n",
       "PaymentMethod       0\n",
       "MonthlyCharges      0\n",
       "TotalCharges        0\n",
       "dtype: int64"
      ]
     },
     "metadata": {},
     "output_type": "display_data"
    },
    {
     "data": {
      "text/plain": [
       "customerID       0\n",
       "gender           0\n",
       "SeniorCitizen    0\n",
       "Partner          0\n",
       "Dependents       0\n",
       "dtype: int64"
      ]
     },
     "metadata": {},
     "output_type": "display_data"
    },
    {
     "data": {
      "text/plain": [
       "customerID          0\n",
       "InternetService     0\n",
       "OnlineSecurity      0\n",
       "OnlineBackup        0\n",
       "DeviceProtection    0\n",
       "TechSupport         0\n",
       "StreamingTV         0\n",
       "StreamingMovies     0\n",
       "dtype: int64"
      ]
     },
     "metadata": {},
     "output_type": "display_data"
    },
    {
     "data": {
      "text/plain": [
       "customerID       0\n",
       "MultipleLines    0\n",
       "dtype: int64"
      ]
     },
     "metadata": {},
     "output_type": "display_data"
    }
   ],
   "source": [
    "#looking for missing values\n",
    "for k,v in dfs.items():\n",
    "    display(v.isna().sum())"
   ]
  },
  {
   "cell_type": "markdown",
   "id": "37fbb3d5",
   "metadata": {},
   "source": [
    "For all the columns that have a lot of string values, we will check for empty strings as well.\n",
    "\n"
   ]
  },
  {
   "cell_type": "code",
   "execution_count": 7,
   "id": "f97fbc0b",
   "metadata": {},
   "outputs": [
    {
     "data": {
      "text/plain": [
       "0"
      ]
     },
     "metadata": {},
     "output_type": "display_data"
    },
    {
     "data": {
      "text/plain": [
       "0"
      ]
     },
     "metadata": {},
     "output_type": "display_data"
    },
    {
     "data": {
      "text/plain": [
       "0"
      ]
     },
     "metadata": {},
     "output_type": "display_data"
    },
    {
     "data": {
      "text/plain": [
       "0"
      ]
     },
     "metadata": {},
     "output_type": "display_data"
    }
   ],
   "source": [
    "# looking for emtpy strings\n",
    "for k,v in dfs.items():\n",
    "    display(v['customerID'].str.contains(' ').sum())"
   ]
  },
  {
   "cell_type": "code",
   "execution_count": 8,
   "id": "cc931a5c",
   "metadata": {},
   "outputs": [
    {
     "data": {
      "text/plain": [
       "11"
      ]
     },
     "execution_count": 8,
     "metadata": {},
     "output_type": "execute_result"
    }
   ],
   "source": [
    "# looking for emtpy strings\n",
    "contract['TotalCharges'].str.contains(' ').sum()"
   ]
  },
  {
   "cell_type": "code",
   "execution_count": 9,
   "id": "476cb247",
   "metadata": {},
   "outputs": [
    {
     "data": {
      "text/html": [
       "<div>\n",
       "<style scoped>\n",
       "    .dataframe tbody tr th:only-of-type {\n",
       "        vertical-align: middle;\n",
       "    }\n",
       "\n",
       "    .dataframe tbody tr th {\n",
       "        vertical-align: top;\n",
       "    }\n",
       "\n",
       "    .dataframe thead th {\n",
       "        text-align: right;\n",
       "    }\n",
       "</style>\n",
       "<table border=\"1\" class=\"dataframe\">\n",
       "  <thead>\n",
       "    <tr style=\"text-align: right;\">\n",
       "      <th></th>\n",
       "      <th>customerID</th>\n",
       "      <th>BeginDate</th>\n",
       "      <th>EndDate</th>\n",
       "      <th>Type</th>\n",
       "      <th>PaperlessBilling</th>\n",
       "      <th>PaymentMethod</th>\n",
       "      <th>MonthlyCharges</th>\n",
       "      <th>TotalCharges</th>\n",
       "    </tr>\n",
       "  </thead>\n",
       "  <tbody>\n",
       "    <tr>\n",
       "      <th>488</th>\n",
       "      <td>4472-LVYGI</td>\n",
       "      <td>2020-02-01</td>\n",
       "      <td>No</td>\n",
       "      <td>Two year</td>\n",
       "      <td>Yes</td>\n",
       "      <td>Bank transfer (automatic)</td>\n",
       "      <td>52.55</td>\n",
       "      <td></td>\n",
       "    </tr>\n",
       "    <tr>\n",
       "      <th>753</th>\n",
       "      <td>3115-CZMZD</td>\n",
       "      <td>2020-02-01</td>\n",
       "      <td>No</td>\n",
       "      <td>Two year</td>\n",
       "      <td>No</td>\n",
       "      <td>Mailed check</td>\n",
       "      <td>20.25</td>\n",
       "      <td></td>\n",
       "    </tr>\n",
       "    <tr>\n",
       "      <th>936</th>\n",
       "      <td>5709-LVOEQ</td>\n",
       "      <td>2020-02-01</td>\n",
       "      <td>No</td>\n",
       "      <td>Two year</td>\n",
       "      <td>No</td>\n",
       "      <td>Mailed check</td>\n",
       "      <td>80.85</td>\n",
       "      <td></td>\n",
       "    </tr>\n",
       "    <tr>\n",
       "      <th>1082</th>\n",
       "      <td>4367-NUYAO</td>\n",
       "      <td>2020-02-01</td>\n",
       "      <td>No</td>\n",
       "      <td>Two year</td>\n",
       "      <td>No</td>\n",
       "      <td>Mailed check</td>\n",
       "      <td>25.75</td>\n",
       "      <td></td>\n",
       "    </tr>\n",
       "    <tr>\n",
       "      <th>1340</th>\n",
       "      <td>1371-DWPAZ</td>\n",
       "      <td>2020-02-01</td>\n",
       "      <td>No</td>\n",
       "      <td>Two year</td>\n",
       "      <td>No</td>\n",
       "      <td>Credit card (automatic)</td>\n",
       "      <td>56.05</td>\n",
       "      <td></td>\n",
       "    </tr>\n",
       "    <tr>\n",
       "      <th>3331</th>\n",
       "      <td>7644-OMVMY</td>\n",
       "      <td>2020-02-01</td>\n",
       "      <td>No</td>\n",
       "      <td>Two year</td>\n",
       "      <td>No</td>\n",
       "      <td>Mailed check</td>\n",
       "      <td>19.85</td>\n",
       "      <td></td>\n",
       "    </tr>\n",
       "    <tr>\n",
       "      <th>3826</th>\n",
       "      <td>3213-VVOLG</td>\n",
       "      <td>2020-02-01</td>\n",
       "      <td>No</td>\n",
       "      <td>Two year</td>\n",
       "      <td>No</td>\n",
       "      <td>Mailed check</td>\n",
       "      <td>25.35</td>\n",
       "      <td></td>\n",
       "    </tr>\n",
       "    <tr>\n",
       "      <th>4380</th>\n",
       "      <td>2520-SGTTA</td>\n",
       "      <td>2020-02-01</td>\n",
       "      <td>No</td>\n",
       "      <td>Two year</td>\n",
       "      <td>No</td>\n",
       "      <td>Mailed check</td>\n",
       "      <td>20.00</td>\n",
       "      <td></td>\n",
       "    </tr>\n",
       "    <tr>\n",
       "      <th>5218</th>\n",
       "      <td>2923-ARZLG</td>\n",
       "      <td>2020-02-01</td>\n",
       "      <td>No</td>\n",
       "      <td>One year</td>\n",
       "      <td>Yes</td>\n",
       "      <td>Mailed check</td>\n",
       "      <td>19.70</td>\n",
       "      <td></td>\n",
       "    </tr>\n",
       "    <tr>\n",
       "      <th>6670</th>\n",
       "      <td>4075-WKNIU</td>\n",
       "      <td>2020-02-01</td>\n",
       "      <td>No</td>\n",
       "      <td>Two year</td>\n",
       "      <td>No</td>\n",
       "      <td>Mailed check</td>\n",
       "      <td>73.35</td>\n",
       "      <td></td>\n",
       "    </tr>\n",
       "    <tr>\n",
       "      <th>6754</th>\n",
       "      <td>2775-SEFEE</td>\n",
       "      <td>2020-02-01</td>\n",
       "      <td>No</td>\n",
       "      <td>Two year</td>\n",
       "      <td>Yes</td>\n",
       "      <td>Bank transfer (automatic)</td>\n",
       "      <td>61.90</td>\n",
       "      <td></td>\n",
       "    </tr>\n",
       "  </tbody>\n",
       "</table>\n",
       "</div>"
      ],
      "text/plain": [
       "      customerID   BeginDate EndDate      Type PaperlessBilling  \\\n",
       "488   4472-LVYGI  2020-02-01      No  Two year              Yes   \n",
       "753   3115-CZMZD  2020-02-01      No  Two year               No   \n",
       "936   5709-LVOEQ  2020-02-01      No  Two year               No   \n",
       "1082  4367-NUYAO  2020-02-01      No  Two year               No   \n",
       "1340  1371-DWPAZ  2020-02-01      No  Two year               No   \n",
       "3331  7644-OMVMY  2020-02-01      No  Two year               No   \n",
       "3826  3213-VVOLG  2020-02-01      No  Two year               No   \n",
       "4380  2520-SGTTA  2020-02-01      No  Two year               No   \n",
       "5218  2923-ARZLG  2020-02-01      No  One year              Yes   \n",
       "6670  4075-WKNIU  2020-02-01      No  Two year               No   \n",
       "6754  2775-SEFEE  2020-02-01      No  Two year              Yes   \n",
       "\n",
       "                  PaymentMethod  MonthlyCharges TotalCharges  \n",
       "488   Bank transfer (automatic)           52.55               \n",
       "753                Mailed check           20.25               \n",
       "936                Mailed check           80.85               \n",
       "1082               Mailed check           25.75               \n",
       "1340    Credit card (automatic)           56.05               \n",
       "3331               Mailed check           19.85               \n",
       "3826               Mailed check           25.35               \n",
       "4380               Mailed check           20.00               \n",
       "5218               Mailed check           19.70               \n",
       "6670               Mailed check           73.35               \n",
       "6754  Bank transfer (automatic)           61.90               "
      ]
     },
     "execution_count": 9,
     "metadata": {},
     "output_type": "execute_result"
    }
   ],
   "source": [
    "contract.loc[contract['TotalCharges'].str.contains(' ')]\n"
   ]
  },
  {
   "cell_type": "markdown",
   "id": "4a794333",
   "metadata": {},
   "source": [
    "### observations:"
   ]
  },
  {
   "cell_type": "markdown",
   "id": "0019b11c",
   "metadata": {},
   "source": [
    "All customers who signed up on 2020-02-01 actually have the contract for less than a month and of course they have not yet been charged any fee, and since they are new customers, we will remove them from the dataset. For this purpose we need to assure that the indexes in personal and contract datasets are the same."
   ]
  },
  {
   "cell_type": "code",
   "execution_count": 10,
   "id": "9a49d91b",
   "metadata": {},
   "outputs": [
    {
     "data": {
      "text/plain": [
       "True"
      ]
     },
     "execution_count": 10,
     "metadata": {},
     "output_type": "execute_result"
    }
   ],
   "source": [
    "# check for index equlity\n",
    "personal['customerID'].equals(contract['customerID'])"
   ]
  },
  {
   "cell_type": "code",
   "execution_count": 11,
   "id": "3d180345",
   "metadata": {},
   "outputs": [
    {
     "data": {
      "text/html": [
       "<div>\n",
       "<style scoped>\n",
       "    .dataframe tbody tr th:only-of-type {\n",
       "        vertical-align: middle;\n",
       "    }\n",
       "\n",
       "    .dataframe tbody tr th {\n",
       "        vertical-align: top;\n",
       "    }\n",
       "\n",
       "    .dataframe thead th {\n",
       "        text-align: right;\n",
       "    }\n",
       "</style>\n",
       "<table border=\"1\" class=\"dataframe\">\n",
       "  <thead>\n",
       "    <tr style=\"text-align: right;\">\n",
       "      <th></th>\n",
       "      <th>customerID</th>\n",
       "      <th>BeginDate</th>\n",
       "      <th>EndDate</th>\n",
       "      <th>Type</th>\n",
       "      <th>PaperlessBilling</th>\n",
       "      <th>PaymentMethod</th>\n",
       "      <th>MonthlyCharges</th>\n",
       "      <th>TotalCharges</th>\n",
       "    </tr>\n",
       "  </thead>\n",
       "  <tbody>\n",
       "  </tbody>\n",
       "</table>\n",
       "</div>"
      ],
      "text/plain": [
       "Empty DataFrame\n",
       "Columns: [customerID, BeginDate, EndDate, Type, PaperlessBilling, PaymentMethod, MonthlyCharges, TotalCharges]\n",
       "Index: []"
      ]
     },
     "execution_count": 11,
     "metadata": {},
     "output_type": "execute_result"
    }
   ],
   "source": [
    "# remove new customers\n",
    "personal.drop(contract[contract['TotalCharges'].str.contains(' ')].index, inplace=True)\n",
    "contract.drop(contract[contract['TotalCharges'].str.contains(' ')].index, inplace=True)\n",
    "# check if removed correctly\n",
    "contract.loc[contract['TotalCharges'].str.contains(' ')]"
   ]
  },
  {
   "cell_type": "code",
   "execution_count": null,
   "id": "9e9548c3",
   "metadata": {},
   "outputs": [],
   "source": [
    "# looking for duplicated ids\n",
    "for k,v in dfs.items():\n",
    "    display(v['customerID'].duplicated().sum())"
   ]
  },
  {
   "cell_type": "markdown",
   "id": "3359f240",
   "metadata": {},
   "source": [
    "Now there are no missing values or duplicates!"
   ]
  },
  {
   "cell_type": "markdown",
   "id": "a074bb2c",
   "metadata": {},
   "source": [
    "### Converting to desired data types"
   ]
  },
  {
   "cell_type": "code",
   "execution_count": 13,
   "id": "79a69b71",
   "metadata": {},
   "outputs": [],
   "source": [
    "# convert from object to datetime\n",
    "contract['BeginDate'] = pd.to_datetime(contract['BeginDate'])"
   ]
  },
  {
   "cell_type": "code",
   "execution_count": 14,
   "id": "cb60cba0",
   "metadata": {},
   "outputs": [],
   "source": [
    "# convert from object to float\n",
    "contract['TotalCharges'] = pd.to_numeric(contract['TotalCharges'], errors='coerce')"
   ]
  },
  {
   "cell_type": "code",
   "execution_count": 15,
   "id": "0b48ab84",
   "metadata": {},
   "outputs": [
    {
     "data": {
      "text/plain": [
       "customerID                  object\n",
       "BeginDate           datetime64[ns]\n",
       "EndDate                     object\n",
       "Type                        object\n",
       "PaperlessBilling            object\n",
       "PaymentMethod               object\n",
       "MonthlyCharges             float64\n",
       "TotalCharges               float64\n",
       "dtype: object"
      ]
     },
     "execution_count": 15,
     "metadata": {},
     "output_type": "execute_result"
    }
   ],
   "source": [
    "# check if converted correctly\n",
    "contract.dtypes"
   ]
  },
  {
   "cell_type": "markdown",
   "id": "8d049122",
   "metadata": {},
   "source": [
    "## Additional features"
   ]
  },
  {
   "cell_type": "markdown",
   "id": "36443cf8",
   "metadata": {},
   "source": [
    "**We would like to add two features to the contract dataset:**\n",
    "\n",
    "* Churn - Our target value (values of Yes/No). Based on a copy of the EndDate.\n",
    "* Tenure - Number of days the customer has a contract with the company. It will be calculated as the difference between the EndDate and BeginDate.\n",
    "* BeginMonth and BeginYear - All the dates begin with the first of the month, so we can refer only to the month and the year."
   ]
  },
  {
   "cell_type": "code",
   "execution_count": 16,
   "id": "a0580bd7",
   "metadata": {},
   "outputs": [],
   "source": [
    "# create the target feature based on the EndDate column\n",
    "contract['Churn'] = contract['EndDate'].copy()"
   ]
  },
  {
   "cell_type": "code",
   "execution_count": 17,
   "id": "aa57c6ff",
   "metadata": {},
   "outputs": [],
   "source": [
    "# replace the 'No' values with the last valid date (2020-02-01)\n",
    "contract['EndDate'].replace(to_replace = 'No', value = '2020-02-01', inplace = True)\n",
    "# convert from object to datetime\n",
    "contract['EndDate'] = pd.to_datetime(contract['EndDate'])"
   ]
  },
  {
   "cell_type": "code",
   "execution_count": 18,
   "id": "518c9e81",
   "metadata": {},
   "outputs": [],
   "source": [
    "# create a new feature - Tenure\n",
    "contract['Tenure'] = (contract['EndDate'] - contract['BeginDate']).dt.days"
   ]
  },
  {
   "cell_type": "code",
   "execution_count": 19,
   "id": "8a13a917",
   "metadata": {},
   "outputs": [],
   "source": [
    "# replace the specified dates in the EndDate with 'Yes' for churned customers\n",
    "contract.loc[~(contract.Churn == 'No'), 'Churn'] = 'Yes'"
   ]
  },
  {
   "cell_type": "code",
   "execution_count": 20,
   "id": "2f22b8cf",
   "metadata": {},
   "outputs": [],
   "source": [
    "contract['BeginMonth'] = contract.BeginDate.dt.month\n",
    "contract['BeginYear'] = contract.BeginDate.dt.year"
   ]
  },
  {
   "cell_type": "markdown",
   "id": "78459905",
   "metadata": {},
   "source": [
    "### Merging the dataframes"
   ]
  },
  {
   "cell_type": "code",
   "execution_count": 21,
   "id": "704ae4e7",
   "metadata": {},
   "outputs": [
    {
     "data": {
      "text/html": [
       "<div>\n",
       "<style scoped>\n",
       "    .dataframe tbody tr th:only-of-type {\n",
       "        vertical-align: middle;\n",
       "    }\n",
       "\n",
       "    .dataframe tbody tr th {\n",
       "        vertical-align: top;\n",
       "    }\n",
       "\n",
       "    .dataframe thead th {\n",
       "        text-align: right;\n",
       "    }\n",
       "</style>\n",
       "<table border=\"1\" class=\"dataframe\">\n",
       "  <thead>\n",
       "    <tr style=\"text-align: right;\">\n",
       "      <th></th>\n",
       "      <th>customerID</th>\n",
       "      <th>gender</th>\n",
       "      <th>SeniorCitizen</th>\n",
       "      <th>Partner</th>\n",
       "      <th>Dependents</th>\n",
       "      <th>BeginDate</th>\n",
       "      <th>EndDate</th>\n",
       "      <th>Type</th>\n",
       "      <th>PaperlessBilling</th>\n",
       "      <th>PaymentMethod</th>\n",
       "      <th>...</th>\n",
       "      <th>BeginMonth</th>\n",
       "      <th>BeginYear</th>\n",
       "      <th>MultipleLines</th>\n",
       "      <th>InternetService</th>\n",
       "      <th>OnlineSecurity</th>\n",
       "      <th>OnlineBackup</th>\n",
       "      <th>DeviceProtection</th>\n",
       "      <th>TechSupport</th>\n",
       "      <th>StreamingTV</th>\n",
       "      <th>StreamingMovies</th>\n",
       "    </tr>\n",
       "  </thead>\n",
       "  <tbody>\n",
       "    <tr>\n",
       "      <th>0</th>\n",
       "      <td>7590-VHVEG</td>\n",
       "      <td>Female</td>\n",
       "      <td>0</td>\n",
       "      <td>Yes</td>\n",
       "      <td>No</td>\n",
       "      <td>2020-01-01</td>\n",
       "      <td>2020-02-01</td>\n",
       "      <td>Month-to-month</td>\n",
       "      <td>Yes</td>\n",
       "      <td>Electronic check</td>\n",
       "      <td>...</td>\n",
       "      <td>1</td>\n",
       "      <td>2020</td>\n",
       "      <td>NaN</td>\n",
       "      <td>DSL</td>\n",
       "      <td>No</td>\n",
       "      <td>Yes</td>\n",
       "      <td>No</td>\n",
       "      <td>No</td>\n",
       "      <td>No</td>\n",
       "      <td>No</td>\n",
       "    </tr>\n",
       "    <tr>\n",
       "      <th>1</th>\n",
       "      <td>5575-GNVDE</td>\n",
       "      <td>Male</td>\n",
       "      <td>0</td>\n",
       "      <td>No</td>\n",
       "      <td>No</td>\n",
       "      <td>2017-04-01</td>\n",
       "      <td>2020-02-01</td>\n",
       "      <td>One year</td>\n",
       "      <td>No</td>\n",
       "      <td>Mailed check</td>\n",
       "      <td>...</td>\n",
       "      <td>4</td>\n",
       "      <td>2017</td>\n",
       "      <td>No</td>\n",
       "      <td>DSL</td>\n",
       "      <td>Yes</td>\n",
       "      <td>No</td>\n",
       "      <td>Yes</td>\n",
       "      <td>No</td>\n",
       "      <td>No</td>\n",
       "      <td>No</td>\n",
       "    </tr>\n",
       "    <tr>\n",
       "      <th>2</th>\n",
       "      <td>3668-QPYBK</td>\n",
       "      <td>Male</td>\n",
       "      <td>0</td>\n",
       "      <td>No</td>\n",
       "      <td>No</td>\n",
       "      <td>2019-10-01</td>\n",
       "      <td>2019-12-01</td>\n",
       "      <td>Month-to-month</td>\n",
       "      <td>Yes</td>\n",
       "      <td>Mailed check</td>\n",
       "      <td>...</td>\n",
       "      <td>10</td>\n",
       "      <td>2019</td>\n",
       "      <td>No</td>\n",
       "      <td>DSL</td>\n",
       "      <td>Yes</td>\n",
       "      <td>Yes</td>\n",
       "      <td>No</td>\n",
       "      <td>No</td>\n",
       "      <td>No</td>\n",
       "      <td>No</td>\n",
       "    </tr>\n",
       "    <tr>\n",
       "      <th>3</th>\n",
       "      <td>7795-CFOCW</td>\n",
       "      <td>Male</td>\n",
       "      <td>0</td>\n",
       "      <td>No</td>\n",
       "      <td>No</td>\n",
       "      <td>2016-05-01</td>\n",
       "      <td>2020-02-01</td>\n",
       "      <td>One year</td>\n",
       "      <td>No</td>\n",
       "      <td>Bank transfer (automatic)</td>\n",
       "      <td>...</td>\n",
       "      <td>5</td>\n",
       "      <td>2016</td>\n",
       "      <td>NaN</td>\n",
       "      <td>DSL</td>\n",
       "      <td>Yes</td>\n",
       "      <td>No</td>\n",
       "      <td>Yes</td>\n",
       "      <td>Yes</td>\n",
       "      <td>No</td>\n",
       "      <td>No</td>\n",
       "    </tr>\n",
       "    <tr>\n",
       "      <th>4</th>\n",
       "      <td>9237-HQITU</td>\n",
       "      <td>Female</td>\n",
       "      <td>0</td>\n",
       "      <td>No</td>\n",
       "      <td>No</td>\n",
       "      <td>2019-09-01</td>\n",
       "      <td>2019-11-01</td>\n",
       "      <td>Month-to-month</td>\n",
       "      <td>Yes</td>\n",
       "      <td>Electronic check</td>\n",
       "      <td>...</td>\n",
       "      <td>9</td>\n",
       "      <td>2019</td>\n",
       "      <td>No</td>\n",
       "      <td>Fiber optic</td>\n",
       "      <td>No</td>\n",
       "      <td>No</td>\n",
       "      <td>No</td>\n",
       "      <td>No</td>\n",
       "      <td>No</td>\n",
       "      <td>No</td>\n",
       "    </tr>\n",
       "  </tbody>\n",
       "</table>\n",
       "<p>5 rows × 24 columns</p>\n",
       "</div>"
      ],
      "text/plain": [
       "   customerID  gender  SeniorCitizen Partner Dependents  BeginDate    EndDate  \\\n",
       "0  7590-VHVEG  Female              0     Yes         No 2020-01-01 2020-02-01   \n",
       "1  5575-GNVDE    Male              0      No         No 2017-04-01 2020-02-01   \n",
       "2  3668-QPYBK    Male              0      No         No 2019-10-01 2019-12-01   \n",
       "3  7795-CFOCW    Male              0      No         No 2016-05-01 2020-02-01   \n",
       "4  9237-HQITU  Female              0      No         No 2019-09-01 2019-11-01   \n",
       "\n",
       "             Type PaperlessBilling              PaymentMethod  ...  \\\n",
       "0  Month-to-month              Yes           Electronic check  ...   \n",
       "1        One year               No               Mailed check  ...   \n",
       "2  Month-to-month              Yes               Mailed check  ...   \n",
       "3        One year               No  Bank transfer (automatic)  ...   \n",
       "4  Month-to-month              Yes           Electronic check  ...   \n",
       "\n",
       "   BeginMonth  BeginYear MultipleLines  InternetService  OnlineSecurity  \\\n",
       "0           1       2020           NaN              DSL              No   \n",
       "1           4       2017            No              DSL             Yes   \n",
       "2          10       2019            No              DSL             Yes   \n",
       "3           5       2016           NaN              DSL             Yes   \n",
       "4           9       2019            No      Fiber optic              No   \n",
       "\n",
       "   OnlineBackup DeviceProtection TechSupport StreamingTV StreamingMovies  \n",
       "0           Yes               No          No          No              No  \n",
       "1            No              Yes          No          No              No  \n",
       "2           Yes               No          No          No              No  \n",
       "3            No              Yes         Yes          No              No  \n",
       "4            No               No          No          No              No  \n",
       "\n",
       "[5 rows x 24 columns]"
      ]
     },
     "execution_count": 21,
     "metadata": {},
     "output_type": "execute_result"
    }
   ],
   "source": [
    "data = personal.merge(contract, on='customerID', how='left')\n",
    "data = data.merge(phone, on='customerID', how='left')\n",
    "data = data.merge(internet, on='customerID', how='left')\n",
    "data.head()"
   ]
  },
  {
   "cell_type": "code",
   "execution_count": 22,
   "id": "7716f295",
   "metadata": {},
   "outputs": [
    {
     "name": "stdout",
     "output_type": "stream",
     "text": [
      "Number of customres: 7032\n"
     ]
    }
   ],
   "source": [
    "print(f\"Number of customres: {len(data)}\")"
   ]
  },
  {
   "cell_type": "code",
   "execution_count": 23,
   "id": "97aed6e2",
   "metadata": {},
   "outputs": [
    {
     "data": {
      "text/plain": [
       "customerID             0\n",
       "gender                 0\n",
       "SeniorCitizen          0\n",
       "Partner                0\n",
       "Dependents             0\n",
       "BeginDate              0\n",
       "EndDate                0\n",
       "Type                   0\n",
       "PaperlessBilling       0\n",
       "PaymentMethod          0\n",
       "MonthlyCharges         0\n",
       "TotalCharges           0\n",
       "Churn                  0\n",
       "Tenure                 0\n",
       "BeginMonth             0\n",
       "BeginYear              0\n",
       "MultipleLines        680\n",
       "InternetService     1520\n",
       "OnlineSecurity      1520\n",
       "OnlineBackup        1520\n",
       "DeviceProtection    1520\n",
       "TechSupport         1520\n",
       "StreamingTV         1520\n",
       "StreamingMovies     1520\n",
       "dtype: int64"
      ]
     },
     "execution_count": 23,
     "metadata": {},
     "output_type": "execute_result"
    }
   ],
   "source": [
    "# missing values in each column\n",
    "data.isna().sum()"
   ]
  },
  {
   "cell_type": "markdown",
   "id": "0da62fde",
   "metadata": {},
   "source": [
    "### observation: "
   ]
  },
  {
   "cell_type": "markdown",
   "id": "016f4d93",
   "metadata": {},
   "source": [
    "- As a result of the mergings we got some rows that have NaN values for the phone and internet services. \n",
    "\n",
    "- We have 680 rows with missing values in the MultipleLines column, which refers to the phone service and 1520 missing values in the columns that refer to the internet services. \n",
    "\n",
    "- As the TotalCharges doesn't have missing values at all, we assume that they actually paying for some services. \n",
    "\n",
    "- We assume that there are customers that uses only one of the two services only phone service or only internet service."
   ]
  },
  {
   "cell_type": "code",
   "execution_count": 24,
   "id": "4f06335b",
   "metadata": {},
   "outputs": [
    {
     "name": "stdout",
     "output_type": "stream",
     "text": [
      "Rows with missing values in one of the services: 2200\n"
     ]
    },
    {
     "data": {
      "text/html": [
       "<div>\n",
       "<style scoped>\n",
       "    .dataframe tbody tr th:only-of-type {\n",
       "        vertical-align: middle;\n",
       "    }\n",
       "\n",
       "    .dataframe tbody tr th {\n",
       "        vertical-align: top;\n",
       "    }\n",
       "\n",
       "    .dataframe thead th {\n",
       "        text-align: right;\n",
       "    }\n",
       "</style>\n",
       "<table border=\"1\" class=\"dataframe\">\n",
       "  <thead>\n",
       "    <tr style=\"text-align: right;\">\n",
       "      <th></th>\n",
       "      <th>MultipleLines</th>\n",
       "      <th>InternetService</th>\n",
       "    </tr>\n",
       "  </thead>\n",
       "  <tbody>\n",
       "    <tr>\n",
       "      <th>0</th>\n",
       "      <td>NaN</td>\n",
       "      <td>DSL</td>\n",
       "    </tr>\n",
       "    <tr>\n",
       "      <th>3</th>\n",
       "      <td>NaN</td>\n",
       "      <td>DSL</td>\n",
       "    </tr>\n",
       "    <tr>\n",
       "      <th>7</th>\n",
       "      <td>NaN</td>\n",
       "      <td>DSL</td>\n",
       "    </tr>\n",
       "    <tr>\n",
       "      <th>11</th>\n",
       "      <td>No</td>\n",
       "      <td>NaN</td>\n",
       "    </tr>\n",
       "    <tr>\n",
       "      <th>16</th>\n",
       "      <td>No</td>\n",
       "      <td>NaN</td>\n",
       "    </tr>\n",
       "  </tbody>\n",
       "</table>\n",
       "</div>"
      ],
      "text/plain": [
       "   MultipleLines InternetService\n",
       "0            NaN             DSL\n",
       "3            NaN             DSL\n",
       "7            NaN             DSL\n",
       "11            No             NaN\n",
       "16            No             NaN"
      ]
     },
     "metadata": {},
     "output_type": "display_data"
    }
   ],
   "source": [
    "print(f\"Rows with missing values in one of the services: {len(data[data.isna().any(axis=1)])}\")\n",
    "display(data[data.isna().any(axis=1)][['MultipleLines','InternetService']].head())"
   ]
  },
  {
   "cell_type": "markdown",
   "id": "13f77eaf",
   "metadata": {},
   "source": [
    "There are 2200 rows with missing values in one of the services. We can see that those who don't have phone services, do have some internet services and vice versa. Also we can see that the sum of the missing values as we mentioned before, which we assume that can't accure simultaniusly is 1520 + 680 = 2200, the exact number of rows that we got now. For the information to be more clear we will create new columns that indicates if the customer has or not internet or phone services. In the original columns we will **replace those NaN values with 'No phone service' and 'No internet service'**. For the additional internet services we will replace the NaNs with 'No'."
   ]
  },
  {
   "cell_type": "code",
   "execution_count": 25,
   "id": "6cb5cc17",
   "metadata": {},
   "outputs": [],
   "source": [
    "data['MultipleLines'].fillna('No phone service', inplace = True)\n",
    "data['InternetService'].fillna('No internet service', inplace = True)\n",
    "data['HasPhone'] = data['MultipleLines'].replace(to_replace = {\"No phone service\": 0, \"No\": 1, \"Yes\":1})\n",
    "data['HasInternet'] = data['InternetService'].replace(to_replace = {\"No internet service\": 0, \"DSL\":1, \"Fiber optic\":1})\n",
    "data.fillna('No', inplace = True)"
   ]
  },
  {
   "cell_type": "code",
   "execution_count": 26,
   "id": "e2e76a2a",
   "metadata": {},
   "outputs": [
    {
     "data": {
      "text/plain": [
       "1    6352\n",
       "0     680\n",
       "Name: HasPhone, dtype: int64"
      ]
     },
     "metadata": {},
     "output_type": "display_data"
    },
    {
     "data": {
      "text/plain": [
       "1    5512\n",
       "0    1520\n",
       "Name: HasInternet, dtype: int64"
      ]
     },
     "metadata": {},
     "output_type": "display_data"
    }
   ],
   "source": [
    "display(data['HasPhone'].value_counts(), data['HasInternet'].value_counts())"
   ]
  },
  {
   "cell_type": "code",
   "execution_count": 27,
   "id": "c230dde1",
   "metadata": {},
   "outputs": [
    {
     "data": {
      "text/plain": [
       "customerID          0\n",
       "gender              0\n",
       "SeniorCitizen       0\n",
       "Partner             0\n",
       "Dependents          0\n",
       "BeginDate           0\n",
       "EndDate             0\n",
       "Type                0\n",
       "PaperlessBilling    0\n",
       "PaymentMethod       0\n",
       "MonthlyCharges      0\n",
       "TotalCharges        0\n",
       "Churn               0\n",
       "Tenure              0\n",
       "BeginMonth          0\n",
       "BeginYear           0\n",
       "MultipleLines       0\n",
       "InternetService     0\n",
       "OnlineSecurity      0\n",
       "OnlineBackup        0\n",
       "DeviceProtection    0\n",
       "TechSupport         0\n",
       "StreamingTV         0\n",
       "StreamingMovies     0\n",
       "HasPhone            0\n",
       "HasInternet         0\n",
       "dtype: int64"
      ]
     },
     "execution_count": 27,
     "metadata": {},
     "output_type": "execute_result"
    }
   ],
   "source": [
    "# missing values in each column\n",
    "data.isna().sum()"
   ]
  },
  {
   "cell_type": "markdown",
   "id": "a9bd7d30",
   "metadata": {},
   "source": [
    "### Investigating the unique end-dates"
   ]
  },
  {
   "cell_type": "code",
   "execution_count": 28,
   "id": "253d786e",
   "metadata": {},
   "outputs": [
    {
     "data": {
      "text/plain": [
       "array(['2020-02-01T00:00:00.000000000', '2019-12-01T00:00:00.000000000',\n",
       "       '2019-11-01T00:00:00.000000000', '2019-10-01T00:00:00.000000000',\n",
       "       '2020-01-01T00:00:00.000000000'], dtype='datetime64[ns]')"
      ]
     },
     "execution_count": 28,
     "metadata": {},
     "output_type": "execute_result"
    }
   ],
   "source": [
    "data.EndDate.unique()"
   ]
  },
  {
   "cell_type": "markdown",
   "id": "a278f18b",
   "metadata": {},
   "source": [
    "There are 4 unique dates when customers left the services. 4 months in a row - October 2019 to January 2020. Information about new customer promotions, year-end specials, new companies entering the market, etc. would be helpful."
   ]
  },
  {
   "cell_type": "markdown",
   "id": "53fa89c7",
   "metadata": {},
   "source": [
    "## EDA\n",
    "****************************************************"
   ]
  },
  {
   "cell_type": "markdown",
   "id": "e672e929",
   "metadata": {},
   "source": [
    "First we want to see the distribution of our target variable."
   ]
  },
  {
   "cell_type": "code",
   "execution_count": 30,
   "id": "3efa55e7",
   "metadata": {},
   "outputs": [
    {
     "data": {
      "image/png": "[encoded data removed]",
      "text/plain": [
       "<Figure size 360x360 with 1 Axes>"
      ]
     },
     "metadata": {},
     "output_type": "display_data"
    }
   ],
   "source": [
    "ax = sns.catplot(x=\"Churn\", kind=\"count\", data=data)\n",
    "plt.title('Churn Distribution', weight='bold').set_fontsize('16');"
   ]
  },
  {
   "cell_type": "markdown",
   "id": "901975db",
   "metadata": {},
   "source": [
    "As we can see our target is binary so our task is a binary classification, and the target is unblanced, we need to choose models that can handle this imbalance and choose the right metric"
   ]
  },
  {
   "cell_type": "markdown",
   "id": "913dfb27",
   "metadata": {},
   "source": [
    "### Personal Information\n",
    "\n"
   ]
  },
  {
   "cell_type": "markdown",
   "id": "2575940a",
   "metadata": {},
   "source": [
    "**we'll plot some visualization of the relations between the personal information and churn.**"
   ]
  },
  {
   "cell_type": "code",
   "execution_count": 31,
   "id": "a7a659e4",
   "metadata": {},
   "outputs": [
    {
     "data": {
      "image/png": "[encoded data removed]",
      "text/plain": [
       "<Figure size 429.375x360 with 1 Axes>"
      ]
     },
     "metadata": {},
     "output_type": "display_data"
    },
    {
     "data": {
      "image/png": "[encoded data removed]",
      "text/plain": [
       "<Figure size 427.5x360 with 1 Axes>"
      ]
     },
     "metadata": {},
     "output_type": "display_data"
    },
    {
     "data": {
      "image/png": "[encoded data removed]",
      "text/plain": [
       "<Figure size 412.375x360 with 1 Axes>"
      ]
     },
     "metadata": {},
     "output_type": "display_data"
    },
    {
     "data": {
      "image/png": "[encoded data removed]",
      "text/plain": [
       "<Figure size 422x360 with 1 Axes>"
      ]
     },
     "metadata": {},
     "output_type": "display_data"
    }
   ],
   "source": [
    "binary_features = {\"gender\" : \"Customer gender distribution\", \n",
    "                   \"SeniorCitizen\" : \"Customer age distribution\", \n",
    "                   \"Partner\" : \"Has Partner\", \n",
    "                   \"Dependents\" : \"Has Dependents\"}\n",
    "\n",
    "# plot for all binary features\n",
    "for k in binary_features:\n",
    "    ax = sns.catplot(x=\"Churn\", kind=\"count\", data=data, hue = k)\n",
    "    plt.title(binary_features[k], weight='bold').set_fontsize('16')\n",
    "    plt.show();"
   ]
  },
  {
   "cell_type": "markdown",
   "id": "52fa3850",
   "metadata": {},
   "source": [
    "- Gender - The churn rate is similar for both genders.\n",
    "\n",
    "- SeniorCitizen - Despite having a small percentage out of all customers, senior citizens have a much higher churn rate. This means that churn is higher for senior citizens.\n",
    "\n",
    "- Partner - Customers who have no partners are more likely to churn.\n",
    "\n",
    "- Dependents - Customers who have no dependents are more likely to churn."
   ]
  },
  {
   "cell_type": "markdown",
   "id": "d44c5555",
   "metadata": {},
   "source": [
    "### Account Information"
   ]
  },
  {
   "cell_type": "markdown",
   "id": "aa2caa49",
   "metadata": {},
   "source": [
    "we'll plot some visualization of the relations between the account information and churn."
   ]
  },
  {
   "cell_type": "code",
   "execution_count": 33,
   "id": "bf682965",
   "metadata": {},
   "outputs": [
    {
     "data": {
      "image/png": "[encoded data removed]",
      "text/plain": [
       "<Figure size 700.375x216 with 1 Axes>"
      ]
     },
     "metadata": {},
     "output_type": "display_data"
    },
    {
     "data": {
      "image/png": "[encoded data removed]",
      "text/plain": [
       "<Figure size 700.375x216 with 1 Axes>"
      ]
     },
     "metadata": {},
     "output_type": "display_data"
    },
    {
     "data": {
      "image/png": "[encoded data removed]",
      "text/plain": [
       "<Figure size 700.375x216 with 1 Axes>"
      ]
     },
     "metadata": {},
     "output_type": "display_data"
    }
   ],
   "source": [
    "continues_features = [\"Tenure\", \"MonthlyCharges\", \"TotalCharges\"]\n",
    "for item in continues_features:  \n",
    "    s = sns.FacetGrid(data, hue = 'Churn', aspect = 3)\n",
    "    s.map(sns.kdeplot, item, shade = True, alpha = 0.7)\n",
    "    s.set(xlim=(0, data[item].max()))\n",
    "    s.add_legend()\n",
    "    s.set_axis_labels(item, 'Density')\n",
    "    s.fig.suptitle(f\"KDE for {item}\", weight='bold')\n",
    "    plt.show()"
   ]
  },
  {
   "cell_type": "code",
   "execution_count": 34,
   "id": "f1843670",
   "metadata": {},
   "outputs": [
    {
     "data": {
      "text/html": [
       "<div>\n",
       "<style scoped>\n",
       "    .dataframe tbody tr th:only-of-type {\n",
       "        vertical-align: middle;\n",
       "    }\n",
       "\n",
       "    .dataframe tbody tr th {\n",
       "        vertical-align: top;\n",
       "    }\n",
       "\n",
       "    .dataframe thead th {\n",
       "        text-align: right;\n",
       "    }\n",
       "</style>\n",
       "<table border=\"1\" class=\"dataframe\">\n",
       "  <thead>\n",
       "    <tr style=\"text-align: right;\">\n",
       "      <th></th>\n",
       "      <th>Tenure</th>\n",
       "      <th>MonthlyCharges</th>\n",
       "      <th>TotalCharges</th>\n",
       "    </tr>\n",
       "    <tr>\n",
       "      <th>Churn</th>\n",
       "      <th></th>\n",
       "      <th></th>\n",
       "      <th></th>\n",
       "    </tr>\n",
       "  </thead>\n",
       "  <tbody>\n",
       "    <tr>\n",
       "      <th>No</th>\n",
       "      <td>1157</td>\n",
       "      <td>64.45</td>\n",
       "      <td>1683.60</td>\n",
       "    </tr>\n",
       "    <tr>\n",
       "      <th>Yes</th>\n",
       "      <td>304</td>\n",
       "      <td>79.65</td>\n",
       "      <td>703.55</td>\n",
       "    </tr>\n",
       "  </tbody>\n",
       "</table>\n",
       "</div>"
      ],
      "text/plain": [
       "       Tenure  MonthlyCharges  TotalCharges\n",
       "Churn                                      \n",
       "No       1157           64.45       1683.60\n",
       "Yes       304           79.65        703.55"
      ]
     },
     "execution_count": 34,
     "metadata": {},
     "output_type": "execute_result"
    }
   ],
   "source": [
    "data.groupby('Churn')[['Tenure','MonthlyCharges','TotalCharges']].median()"
   ]
  },
  {
   "cell_type": "markdown",
   "id": "05a7166d",
   "metadata": {},
   "source": [
    "- Tenure - The median tenure for customers who have left is around 10 months (304 days), which means that recent clients are more likely to churn.\n",
    "\n",
    "- MonthlyCharges - Monthly charges for customers who have left are usually higher and are around 80.\n",
    "\n",
    "- TotalCharges - The median total charges of customers who have churned is very low, what correlates with the low tenure."
   ]
  },
  {
   "cell_type": "code",
   "execution_count": 35,
   "id": "254a2efc",
   "metadata": {},
   "outputs": [
    {
     "data": {
      "image/png": "[encoded data removed]",
      "text/plain": [
       "<Figure size 466.875x360 with 1 Axes>"
      ]
     },
     "metadata": {},
     "output_type": "display_data"
    },
    {
     "data": {
      "image/png": "[encoded data removed]",
      "text/plain": [
       "<Figure size 508.125x360 with 1 Axes>"
      ]
     },
     "metadata": {},
     "output_type": "display_data"
    },
    {
     "data": {
      "image/png": "[encoded data removed]",
      "text/plain": [
       "<Figure size 473.75x360 with 1 Axes>"
      ]
     },
     "metadata": {},
     "output_type": "display_data"
    },
    {
     "data": {
      "image/png": "[encoded data removed]",
      "text/plain": [
       "<Figure size 479.5x360 with 1 Axes>"
      ]
     },
     "metadata": {},
     "output_type": "display_data"
    },
    {
     "data": {
      "image/png": "[encoded data removed]",
      "text/plain": [
       "<Figure size 439.25x360 with 1 Axes>"
      ]
     },
     "metadata": {},
     "output_type": "display_data"
    }
   ],
   "source": [
    "categorical_features = {\"Type\" : \"Type Of Contract\",\n",
    "                        \"PaymentMethod\" : \"Payment Method\",\n",
    "                        \"MultipleLines\" : \"Phone Service\",\n",
    "                        \"InternetService\" : \"Internet Service\",\n",
    "                        \"PaperlessBilling\" : \"Has paperless billing\"}\n",
    "\n",
    "# plot for all categorical features\n",
    "for k in categorical_features:\n",
    "    ax = sns.catplot(x=\"Churn\", kind=\"count\", data=data, hue = k)\n",
    "    plt.title(categorical_features[k], weight='bold').set_fontsize('16')\n",
    "    plt.show();"
   ]
  },
  {
   "cell_type": "markdown",
   "id": "1b10f42d",
   "metadata": {},
   "source": [
    "- Type - In contrast to Customers on one or two year contracts, customers on monthly subscriptions are more likely to churn.\n",
    "\n",
    "- PaymentMethod - Customers who have electronic check payment method are more likely to churn.\n",
    "\n",
    "- MultipleLines -\n",
    "\n",
    "- InternetService - Churn rate is much higher for customers with Fiber optic internet services.\n",
    "\n",
    "- PaperlessBilling - Customers who have paperless billing are more likely to churn."
   ]
  },
  {
   "cell_type": "code",
   "execution_count": 37,
   "id": "c859e621",
   "metadata": {},
   "outputs": [
    {
     "data": {
      "image/png": "[encoded data removed]",
      "text/plain": [
       "<Figure size 418.5x360 with 1 Axes>"
      ]
     },
     "metadata": {},
     "output_type": "display_data"
    }
   ],
   "source": [
    "ax = sns.catplot(x=\"Churn\", kind=\"count\", data=data, hue = \"BeginYear\")\n",
    "plt.title(\"Begin Year\", weight='bold').set_fontsize('16')\n",
    "plt.show();"
   ]
  },
  {
   "cell_type": "markdown",
   "id": "560b4dd9",
   "metadata": {},
   "source": [
    "- BeginYear - The majority of customers who churned the company were those who signed up for its services in 2019."
   ]
  },
  {
   "cell_type": "markdown",
   "id": "6411a028",
   "metadata": {},
   "source": [
    "### Additional services used by the customer"
   ]
  },
  {
   "cell_type": "code",
   "execution_count": 38,
   "id": "e00612cc",
   "metadata": {},
   "outputs": [
    {
     "data": {
      "image/png": "[encoded data removed]",
      "text/plain": [
       "<Figure size 433x360 with 1 Axes>"
      ]
     },
     "metadata": {},
     "output_type": "display_data"
    },
    {
     "data": {
      "image/png": "[encoded data removed]",
      "text/plain": [
       "<Figure size 430.125x360 with 1 Axes>"
      ]
     },
     "metadata": {},
     "output_type": "display_data"
    },
    {
     "data": {
      "image/png": "[encoded data removed]",
      "text/plain": [
       "<Figure size 443.875x360 with 1 Axes>"
      ]
     },
     "metadata": {},
     "output_type": "display_data"
    },
    {
     "data": {
      "image/png": "[encoded data removed]",
      "text/plain": [
       "<Figure size 424x360 with 1 Axes>"
      ]
     },
     "metadata": {},
     "output_type": "display_data"
    },
    {
     "data": {
      "image/png": "[encoded data removed]",
      "text/plain": [
       "<Figure size 426.125x360 with 1 Axes>"
      ]
     },
     "metadata": {},
     "output_type": "display_data"
    },
    {
     "data": {
      "image/png": "[encoded data removed]",
      "text/plain": [
       "<Figure size 445.25x360 with 1 Axes>"
      ]
     },
     "metadata": {},
     "output_type": "display_data"
    }
   ],
   "source": [
    "binary_features = {\"OnlineSecurity\" : \"Has Online Security\", \n",
    "                   \"OnlineBackup\" : \"Has Online Backup\", \n",
    "                   \"DeviceProtection\" : \"Has Device Protection\", \n",
    "                   \"TechSupport\" : \"Has Tech Support\",\n",
    "                   \"StreamingTV\" : \"Has Streaming TV\",\n",
    "                   \"StreamingMovies\" : \"Has Streaming Movies\"}\n",
    "\n",
    "# plot for all binary features\n",
    "for k in binary_features:\n",
    "    ax = sns.catplot(x=\"Churn\", kind=\"count\", data=data, hue = k)\n",
    "    plt.title(binary_features[k], weight='bold').set_fontsize('16')\n",
    "    plt.show();"
   ]
  },
  {
   "cell_type": "markdown",
   "id": "97aa42e2",
   "metadata": {},
   "source": [
    "- OnlineSecurity - Customers who have no online security service are more likely to churn.\n",
    "\n",
    "- OnlineBackup - Customers who have no online backup service are more likely to churn.\n",
    "\n",
    "- DeviceProtection - Customers who have no device protection service are more likely to churn.\n",
    "\n",
    "- TechSupport - Customers who have no tech support service are more likely to churn.\n",
    "\n",
    "- StreamingTV - Customers with a Streaming TV service are more likely to churn.\n",
    "\n",
    "- StreamingMovies - Customers with a Streaming Movies service are more likely to churn."
   ]
  },
  {
   "cell_type": "markdown",
   "id": "44ff9af9",
   "metadata": {},
   "source": [
    "### Correlations between features and target"
   ]
  },
  {
   "cell_type": "markdown",
   "id": "f2ba7daa",
   "metadata": {},
   "source": [
    "For revealing the correlation of the categorical fatures with the target, we'll make a copy of the data and make some manipulations based on the results of the graphs above. Binary features will be converted to numeric values of 0 and 1. Categorical features will get the values in the ordere that were shown in the graphs."
   ]
  },
  {
   "cell_type": "code",
   "execution_count": 40,
   "id": "29df33b3",
   "metadata": {},
   "outputs": [],
   "source": [
    "data_copy = data.copy()\n"
   ]
  },
  {
   "cell_type": "code",
   "execution_count": 41,
   "id": "8cbffa9e",
   "metadata": {},
   "outputs": [],
   "source": [
    "# list of binary features\n",
    "binary_features = [\"OnlineSecurity\", \"OnlineBackup\" , \"DeviceProtection\", \"TechSupport\", \"StreamingTV\", \"StreamingMovies\",\n",
    "                   \"Partner\" , \"Dependents\" , \"PaperlessBilling\", \"Churn\"]"
   ]
  },
  {
   "cell_type": "code",
   "execution_count": 42,
   "id": "8e2196a4",
   "metadata": {},
   "outputs": [],
   "source": [
    "# encode the strings to numeric values\n",
    "for f in binary_features:\n",
    "    data_copy[f].replace(to_replace = {\"Yes\": 1, \"No\": 0}, inplace = True)"
   ]
  },
  {
   "cell_type": "code",
   "execution_count": 43,
   "id": "265c64da",
   "metadata": {},
   "outputs": [],
   "source": [
    "data_copy.gender.replace(to_replace = {\"Male\" : 0, \"Female\" : 1}, inplace = True)\n",
    "data_copy.Type.replace(to_replace = {\"Month-to-month\" : 0, \"One year\" : 1, \"Two year\" : 2}, inplace = True)\n",
    "data_copy.PaymentMethod.replace(to_replace = {\"Electronic check\" : 0, \"Mailed check\": 1, \n",
    "                                                 \"Bank transfer (automatic)\":2, \"Credit card (automatic)\":3}, inplace = True)\n",
    "data_copy.MultipleLines.replace(to_replace = {\"No phone service\": 0, \"No\": 1, \"Yes\" : 2}, inplace = True)\n",
    "data_copy.InternetService.replace(to_replace = {\"No internet service\" : 0, \"DSL\" :1, \"Fiber optic\" : 2}, inplace = True)"
   ]
  },
  {
   "cell_type": "code",
   "execution_count": 44,
   "id": "b3708e1f",
   "metadata": {},
   "outputs": [],
   "source": [
    "# find the correlations of the target with the features\n",
    "churn_corr = data_copy.corr()['Churn'].sort_values(ascending = False)"
   ]
  },
  {
   "cell_type": "code",
   "execution_count": 45,
   "id": "19bd25a7",
   "metadata": {},
   "outputs": [],
   "source": [
    "# assign the red color for negative values and green for positive values\n",
    "colors = ['red' if x < 0 else 'green' for x in churn_corr]"
   ]
  },
  {
   "cell_type": "code",
   "execution_count": 46,
   "id": "05d09853",
   "metadata": {},
   "outputs": [
    {
     "data": {
      "image/png": "[encoded data removed]",
      "text/plain": [
       "<Figure size 864x576 with 1 Axes>"
      ]
     },
     "metadata": {},
     "output_type": "display_data"
    }
   ],
   "source": [
    "# plot the correlations\n",
    "plt.figure(figsize=(12,8))\n",
    "plt.hlines(y = churn_corr.index, xmin = 0, xmax= churn_corr, color = colors, alpha = 0.4, linewidth = 10);\n",
    "plt.title('Corrleations between Churn and other features', weight='bold').set_fontsize('16');"
   ]
  },
  {
   "cell_type": "markdown",
   "id": "ac8c231c",
   "metadata": {},
   "source": [
    "**observation:**\n",
    "    \n",
    "Based on our analysis, we see that the following features are most correlated with the target: InternetService, BeginYear, HasInternet, Type, Tenure, PaymentMethod and TotalCharges.\n",
    "*************************************************************************"
   ]
  },
  {
   "cell_type": "markdown",
   "id": "c59d8e2a",
   "metadata": {},
   "source": [
    "Now we want to see the correlations between the features themselves, and if there high correlation between the features, we will drop few of them."
   ]
  },
  {
   "cell_type": "code",
   "execution_count": 48,
   "id": "3b865b5b",
   "metadata": {},
   "outputs": [
    {
     "data": {
      "text/html": [
       "<div>\n",
       "<style scoped>\n",
       "    .dataframe tbody tr th:only-of-type {\n",
       "        vertical-align: middle;\n",
       "    }\n",
       "\n",
       "    .dataframe tbody tr th {\n",
       "        vertical-align: top;\n",
       "    }\n",
       "\n",
       "    .dataframe thead th {\n",
       "        text-align: right;\n",
       "    }\n",
       "</style>\n",
       "<table border=\"1\" class=\"dataframe\">\n",
       "  <thead>\n",
       "    <tr style=\"text-align: right;\">\n",
       "      <th></th>\n",
       "      <th>Churn</th>\n",
       "      <th>InternetService</th>\n",
       "      <th>BeginYear</th>\n",
       "      <th>HasInternet</th>\n",
       "      <th>Type</th>\n",
       "      <th>Tenure</th>\n",
       "      <th>PaymentMethod</th>\n",
       "      <th>TotalCharges</th>\n",
       "    </tr>\n",
       "  </thead>\n",
       "  <tbody>\n",
       "    <tr>\n",
       "      <th>Churn</th>\n",
       "      <td>1.000000</td>\n",
       "      <td>0.316350</td>\n",
       "      <td>0.293770</td>\n",
       "      <td>0.227578</td>\n",
       "      <td>-0.396150</td>\n",
       "      <td>-0.354496</td>\n",
       "      <td>-0.262918</td>\n",
       "      <td>-0.199484</td>\n",
       "    </tr>\n",
       "    <tr>\n",
       "      <th>InternetService</th>\n",
       "      <td>0.316350</td>\n",
       "      <td>1.000000</td>\n",
       "      <td>-0.055959</td>\n",
       "      <td>0.825625</td>\n",
       "      <td>-0.288855</td>\n",
       "      <td>0.031119</td>\n",
       "      <td>-0.178655</td>\n",
       "      <td>0.428212</td>\n",
       "    </tr>\n",
       "    <tr>\n",
       "      <th>BeginYear</th>\n",
       "      <td>0.293770</td>\n",
       "      <td>-0.055959</td>\n",
       "      <td>1.000000</td>\n",
       "      <td>-0.055637</td>\n",
       "      <td>-0.654961</td>\n",
       "      <td>-0.987425</td>\n",
       "      <td>-0.326365</td>\n",
       "      <td>-0.819304</td>\n",
       "    </tr>\n",
       "    <tr>\n",
       "      <th>HasInternet</th>\n",
       "      <td>0.227578</td>\n",
       "      <td>0.825625</td>\n",
       "      <td>-0.055637</td>\n",
       "      <td>1.000000</td>\n",
       "      <td>-0.241574</td>\n",
       "      <td>0.037417</td>\n",
       "      <td>-0.117927</td>\n",
       "      <td>0.374878</td>\n",
       "    </tr>\n",
       "    <tr>\n",
       "      <th>Type</th>\n",
       "      <td>-0.396150</td>\n",
       "      <td>-0.288855</td>\n",
       "      <td>-0.654961</td>\n",
       "      <td>-0.241574</td>\n",
       "      <td>1.000000</td>\n",
       "      <td>0.676787</td>\n",
       "      <td>0.359487</td>\n",
       "      <td>0.450306</td>\n",
       "    </tr>\n",
       "    <tr>\n",
       "      <th>Tenure</th>\n",
       "      <td>-0.354496</td>\n",
       "      <td>0.031119</td>\n",
       "      <td>-0.987425</td>\n",
       "      <td>0.037417</td>\n",
       "      <td>0.676787</td>\n",
       "      <td>1.000000</td>\n",
       "      <td>0.340997</td>\n",
       "      <td>0.825811</td>\n",
       "    </tr>\n",
       "    <tr>\n",
       "      <th>PaymentMethod</th>\n",
       "      <td>-0.262918</td>\n",
       "      <td>-0.178655</td>\n",
       "      <td>-0.326365</td>\n",
       "      <td>-0.117927</td>\n",
       "      <td>0.359487</td>\n",
       "      <td>0.340997</td>\n",
       "      <td>1.000000</td>\n",
       "      <td>0.222694</td>\n",
       "    </tr>\n",
       "    <tr>\n",
       "      <th>TotalCharges</th>\n",
       "      <td>-0.199484</td>\n",
       "      <td>0.428212</td>\n",
       "      <td>-0.819304</td>\n",
       "      <td>0.374878</td>\n",
       "      <td>0.450306</td>\n",
       "      <td>0.825811</td>\n",
       "      <td>0.222694</td>\n",
       "      <td>1.000000</td>\n",
       "    </tr>\n",
       "  </tbody>\n",
       "</table>\n",
       "</div>"
      ],
      "text/plain": [
       "                    Churn  InternetService  BeginYear  HasInternet      Type  \\\n",
       "Churn            1.000000         0.316350   0.293770     0.227578 -0.396150   \n",
       "InternetService  0.316350         1.000000  -0.055959     0.825625 -0.288855   \n",
       "BeginYear        0.293770        -0.055959   1.000000    -0.055637 -0.654961   \n",
       "HasInternet      0.227578         0.825625  -0.055637     1.000000 -0.241574   \n",
       "Type            -0.396150        -0.288855  -0.654961    -0.241574  1.000000   \n",
       "Tenure          -0.354496         0.031119  -0.987425     0.037417  0.676787   \n",
       "PaymentMethod   -0.262918        -0.178655  -0.326365    -0.117927  0.359487   \n",
       "TotalCharges    -0.199484         0.428212  -0.819304     0.374878  0.450306   \n",
       "\n",
       "                   Tenure  PaymentMethod  TotalCharges  \n",
       "Churn           -0.354496      -0.262918     -0.199484  \n",
       "InternetService  0.031119      -0.178655      0.428212  \n",
       "BeginYear       -0.987425      -0.326365     -0.819304  \n",
       "HasInternet      0.037417      -0.117927      0.374878  \n",
       "Type             0.676787       0.359487      0.450306  \n",
       "Tenure           1.000000       0.340997      0.825811  \n",
       "PaymentMethod    0.340997       1.000000      0.222694  \n",
       "TotalCharges     0.825811       0.222694      1.000000  "
      ]
     },
     "execution_count": 48,
     "metadata": {},
     "output_type": "execute_result"
    }
   ],
   "source": [
    "data_copy[['Churn', 'InternetService', 'BeginYear', 'HasInternet', 'Type', 'Tenure','PaymentMethod', 'TotalCharges']].corr()"
   ]
  },
  {
   "cell_type": "markdown",
   "id": "abe7a81d",
   "metadata": {},
   "source": [
    "### observation"
   ]
  },
  {
   "cell_type": "markdown",
   "id": "0f988685",
   "metadata": {},
   "source": [
    "As we can see, there is a high correlation between Tenure and BeginYear because it was calculated based on it, so we'll drop both cloumns, BeginYear and BeginMonth to avoid data leakage."
   ]
  }
 ],
 "metadata": {
  "ExecuteTimeLog": [
   {
    "duration": 86629,
    "start_time": "2022-07-28T17:20:32.951Z"
   },
   {
    "duration": 140,
    "start_time": "2022-07-28T17:21:59.581Z"
   },
   {
    "duration": 39,
    "start_time": "2022-07-28T17:21:59.723Z"
   },
   {
    "duration": 36,
    "start_time": "2022-07-28T17:22:46.168Z"
   },
   {
    "duration": 19,
    "start_time": "2022-07-28T17:22:46.593Z"
   },
   {
    "duration": 16,
    "start_time": "2022-07-28T17:23:57.388Z"
   },
   {
    "duration": 27,
    "start_time": "2022-07-28T17:24:22.126Z"
   },
   {
    "duration": 7,
    "start_time": "2022-07-28T17:24:22.869Z"
   },
   {
    "duration": 15,
    "start_time": "2022-07-28T17:24:31.799Z"
   },
   {
    "duration": 4,
    "start_time": "2022-07-28T17:25:07.261Z"
   },
   {
    "duration": 16,
    "start_time": "2022-07-28T17:25:13.946Z"
   },
   {
    "duration": 77,
    "start_time": "2022-07-28T17:25:42.479Z"
   },
   {
    "duration": 6,
    "start_time": "2022-07-28T17:26:04.053Z"
   },
   {
    "duration": 5,
    "start_time": "2022-07-28T17:26:10.419Z"
   },
   {
    "duration": 4,
    "start_time": "2022-07-28T17:26:18.570Z"
   },
   {
    "duration": 3,
    "start_time": "2022-07-28T17:27:15.048Z"
   },
   {
    "duration": 7,
    "start_time": "2022-07-28T17:27:28.582Z"
   },
   {
    "duration": 4,
    "start_time": "2022-07-28T17:27:34.568Z"
   },
   {
    "duration": 5,
    "start_time": "2022-07-28T17:27:41.040Z"
   },
   {
    "duration": 18,
    "start_time": "2022-07-28T17:27:47.126Z"
   },
   {
    "duration": 57,
    "start_time": "2022-07-28T17:28:07.627Z"
   },
   {
    "duration": 3,
    "start_time": "2022-07-28T17:28:08.142Z"
   },
   {
    "duration": 10,
    "start_time": "2022-07-28T17:28:14.658Z"
   },
   {
    "duration": 20,
    "start_time": "2022-07-28T17:30:10.978Z"
   },
   {
    "duration": 17,
    "start_time": "2022-07-28T17:30:46.412Z"
   },
   {
    "duration": 8,
    "start_time": "2022-07-28T17:30:51.923Z"
   },
   {
    "duration": 11,
    "start_time": "2022-07-28T17:31:00.942Z"
   },
   {
    "duration": 5,
    "start_time": "2022-07-28T17:31:21.899Z"
   },
   {
    "duration": 298,
    "start_time": "2022-07-28T17:33:00.528Z"
   },
   {
    "duration": 319,
    "start_time": "2022-07-28T17:33:17.197Z"
   },
   {
    "duration": 1502,
    "start_time": "2022-07-28T17:33:56.124Z"
   },
   {
    "duration": 75,
    "start_time": "2022-07-28T17:34:11.678Z"
   },
   {
    "duration": 1237,
    "start_time": "2022-07-28T17:36:46.942Z"
   },
   {
    "duration": 11,
    "start_time": "2022-07-28T17:36:59.284Z"
   },
   {
    "duration": 2054,
    "start_time": "2022-07-28T17:37:32.909Z"
   },
   {
    "duration": 258,
    "start_time": "2022-07-28T17:38:06.499Z"
   },
   {
    "duration": 531,
    "start_time": "2022-07-28T17:38:14.555Z"
   },
   {
    "duration": 2337,
    "start_time": "2022-07-28T17:38:48.926Z"
   },
   {
    "duration": 3,
    "start_time": "2022-07-28T17:40:09.517Z"
   },
   {
    "duration": 4,
    "start_time": "2022-07-28T17:40:38.016Z"
   },
   {
    "duration": 3,
    "start_time": "2022-07-28T17:40:38.407Z"
   },
   {
    "duration": 31,
    "start_time": "2022-07-28T17:40:38.864Z"
   },
   {
    "duration": 18,
    "start_time": "2022-07-28T17:41:03.190Z"
   },
   {
    "duration": 14,
    "start_time": "2022-07-28T17:41:03.804Z"
   },
   {
    "duration": 3,
    "start_time": "2022-07-28T17:41:04.484Z"
   },
   {
    "duration": 212,
    "start_time": "2022-07-28T17:41:19.894Z"
   },
   {
    "duration": 89,
    "start_time": "2022-07-28T17:45:58.114Z"
   },
   {
    "duration": 14,
    "start_time": "2022-07-28T17:46:29.923Z"
   }
  ],
  "kernelspec": {
   "display_name": "Python 3 (ipykernel)",
   "language": "python",
   "name": "python3"
  },
  "language_info": {
   "codemirror_mode": {
    "name": "ipython",
    "version": 3
   },
   "file_extension": ".py",
   "mimetype": "text/x-python",
   "name": "python",
   "nbconvert_exporter": "python",
   "pygments_lexer": "ipython3",
   "version": "3.9.5"
  },
  "toc": {
   "base_numbering": 1,
   "nav_menu": {},
   "number_sections": true,
   "sideBar": true,
   "skip_h1_title": true,
   "title_cell": "Table of Contents",
   "title_sidebar": "Contents",
   "toc_cell": false,
   "toc_position": {},
   "toc_section_display": true,
   "toc_window_display": false
  }
 },
 "nbformat": 4,
 "nbformat_minor": 5
}
